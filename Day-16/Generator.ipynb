{
 "cells": [
  {
   "cell_type": "code",
   "execution_count": 1,
   "id": "6a35b42d",
   "metadata": {},
   "outputs": [],
   "source": [
    "    def number_generator(start,end):\n",
    "        for num in range(start, end+1):\n",
    "            yield num"
   ]
  },
  {
   "cell_type": "code",
   "execution_count": 2,
   "id": "d97e5b21",
   "metadata": {},
   "outputs": [],
   "source": [
    "my_generator=number_generator(1,5)"
   ]
  },
  {
   "cell_type": "code",
   "execution_count": 3,
   "id": "2e387793",
   "metadata": {},
   "outputs": [
    {
     "name": "stdout",
     "output_type": "stream",
     "text": [
      "<generator object number_generator at 0x7f9178421190>\n"
     ]
    }
   ],
   "source": [
    "print(my_generator)"
   ]
  },
  {
   "cell_type": "code",
   "execution_count": 7,
   "id": "f24fc24f",
   "metadata": {},
   "outputs": [
    {
     "name": "stdout",
     "output_type": "stream",
     "text": [
      "out of limit.\n"
     ]
    }
   ],
   "source": [
    "try:\n",
    "    print(next(my_generator))\n",
    "    print(next(my_generator))\n",
    "    print(next(my_generator))\n",
    "    print(next(my_generator))\n",
    "    print(next(my_generator))\n",
    "    print(next(my_generator))\n",
    "\n",
    "\n",
    "except StopIteration:\n",
    "    print(\"out of limit.\")"
   ]
  },
  {
   "cell_type": "code",
   "execution_count": 6,
   "id": "4f0195c8",
   "metadata": {},
   "outputs": [],
   "source": [
    "for num in my_generator:\n",
    "    print(num)"
   ]
  },
  {
   "cell_type": "code",
   "execution_count": null,
   "id": "e8930fa8",
   "metadata": {},
   "outputs": [],
   "source": []
  },
  {
   "cell_type": "code",
   "execution_count": null,
   "id": "4ce7e0af",
   "metadata": {},
   "outputs": [],
   "source": []
  }
 ],
 "metadata": {
  "kernelspec": {
   "display_name": "Python 3 (ipykernel)",
   "language": "python",
   "name": "python3"
  },
  "language_info": {
   "codemirror_mode": {
    "name": "ipython",
    "version": 3
   },
   "file_extension": ".py",
   "mimetype": "text/x-python",
   "name": "python",
   "nbconvert_exporter": "python",
   "pygments_lexer": "ipython3",
   "version": "3.9.12"
  }
 },
 "nbformat": 4,
 "nbformat_minor": 5
}

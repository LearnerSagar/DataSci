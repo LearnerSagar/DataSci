{
 "cells": [
  {
   "cell_type": "code",
   "execution_count": 18,
   "id": "5c5aa90c",
   "metadata": {},
   "outputs": [],
   "source": [
    "class Animal:\n",
    "    def __init__(self, name, age):\n",
    "        self.name=name\n",
    "        self.age=age\n",
    "    def intro(self):\n",
    "        print(\"I am animal.\")\n",
    "        \n",
    "class cat(Animal):\n",
    "    def __init__(self, name, age, color):\n",
    "        super().__init__(name,age)\n",
    "        self.color=color\n",
    "    def speak(self):\n",
    "        print(\"Meow!\")\n",
    "        "
   ]
  },
  {
   "cell_type": "code",
   "execution_count": 19,
   "id": "912cb518",
   "metadata": {},
   "outputs": [
    {
     "name": "stdout",
     "output_type": "stream",
     "text": [
      "Fluffy\n",
      "2\n",
      "black\n",
      "Meow!\n",
      "I am animal.\n"
     ]
    }
   ],
   "source": [
    "my_cat= cat(\"Fluffy\", 2, \"black\")\n",
    "print(my_cat.name)\n",
    "print(my_cat.age)\n",
    "print(my_cat.color)\n",
    "my_cat.speak()\n",
    "my_cat.intro()"
   ]
  },
  {
   "cell_type": "code",
   "execution_count": 7,
   "id": "040272a8",
   "metadata": {},
   "outputs": [
    {
     "name": "stdout",
     "output_type": "stream",
     "text": [
      "This is first parent.\n",
      "This is second parent.\n",
      "This is a child.\n"
     ]
    }
   ],
   "source": [
    "class parent1:\n",
    "    def func1(self):\n",
    "        print(\"This is first parent.\")\n",
    "class parent2:\n",
    "    def func2(self):\n",
    "        print(\"This is second parent.\")\n",
    "class child(parent1, parent2):\n",
    "    def func3(self):\n",
    "        print(\"This is a child.\")\n",
    "        \n",
    "child().func1()\n",
    "child().func2()\n",
    "child().func3()"
   ]
  },
  {
   "cell_type": "code",
   "execution_count": 30,
   "id": "fe4d569c",
   "metadata": {},
   "outputs": [],
   "source": [
    "class A:\n",
    "    def method_a(self):\n",
    "        print(\"This is method A\")\n",
    "class B(A):\n",
    "    def method_b(self):\n",
    "        print(\"This is method B from class B\")\n",
    "        \n",
    "class C(B):\n",
    "    def method_c(self):\n",
    "        print(\"This is method C form class B\")\n"
   ]
  },
  {
   "cell_type": "code",
   "execution_count": 32,
   "id": "49ff9923",
   "metadata": {},
   "outputs": [
    {
     "name": "stdout",
     "output_type": "stream",
     "text": [
      "This is method C form class B\n"
     ]
    }
   ],
   "source": [
    "obj=C()\n",
    "obj.method_c()"
   ]
  },
  {
   "cell_type": "code",
   "execution_count": 39,
   "id": "5e241b71",
   "metadata": {},
   "outputs": [],
   "source": [
    "class Animal:\n",
    "    def __init__(self, name):\n",
    "        self.name=name\n",
    "    def intro(self):\n",
    "        pass\n",
    "class Cat(Animal):\n",
    "    def speak(self):\n",
    "        return \"Meow!\"\n",
    "class Dog(Animal):\n",
    "    def speak(self):\n",
    "        return \"Woof!\"\n",
    "class Lion(Animal):\n",
    "    def speak(self):\n",
    "        return \"Roar\"\n",
    "    "
   ]
  },
  {
   "cell_type": "code",
   "execution_count": 40,
   "id": "2581f879",
   "metadata": {},
   "outputs": [],
   "source": [
    "cat=Cat(\"Fluffy\")\n",
    "dog=Dog(\"Fido\")\n",
    "lion=Lion(\"simba\")"
   ]
  },
  {
   "cell_type": "code",
   "execution_count": 41,
   "id": "c5bf2c2b",
   "metadata": {},
   "outputs": [
    {
     "name": "stdout",
     "output_type": "stream",
     "text": [
      "Meow!\n",
      "None\n"
     ]
    }
   ],
   "source": [
    "print(cat.speak())\n",
    "print(cat.intro())"
   ]
  },
  {
   "cell_type": "markdown",
   "id": "c61a91c0",
   "metadata": {},
   "source": [
    "## Hybrid inheritance"
   ]
  },
  {
   "cell_type": "code",
   "execution_count": 42,
   "id": "d2d91360",
   "metadata": {},
   "outputs": [],
   "source": [
    "class Animal:\n",
    "    def __init__(self, name):\n",
    "        self.name=name\n",
    "    def speak(self):\n",
    "        print(f\"{self.name} is speaking.\")\n",
    "class Mammal(Animal):\n",
    "    def __init__(self, name):\n",
    "              super(). __init__(name)\n",
    "    def feed_milk(self):\n",
    "        print(f\"{self.name} is feeding milk.\")\n",
    "class Bird(Animal):\n",
    "    def __init__(self,name):\n",
    "        super(). __init__(name)\n",
    "    def fly(self):\n",
    "        print(f\"{self.name} is flying.\")\n",
    "class Bat(Mammal, Bird):\n",
    "    def __init__(self,name):\n",
    "        super(). __init__(name)\n",
    "        \n"
   ]
  },
  {
   "cell_type": "code",
   "execution_count": 43,
   "id": "26fca825",
   "metadata": {},
   "outputs": [
    {
     "name": "stdout",
     "output_type": "stream",
     "text": [
      "Bruce is speaking.\n",
      "Bruce is feeding milk.\n",
      "Bruce is flying.\n"
     ]
    }
   ],
   "source": [
    "b=Bat(\"Bruce\")\n",
    "b.speak()\n",
    "b.feed_milk()\n",
    "b.fly()\n"
   ]
  },
  {
   "cell_type": "code",
   "execution_count": null,
   "id": "1b8591ab",
   "metadata": {},
   "outputs": [],
   "source": []
  },
  {
   "cell_type": "code",
   "execution_count": null,
   "id": "ce13ce51",
   "metadata": {},
   "outputs": [],
   "source": []
  },
  {
   "cell_type": "code",
   "execution_count": null,
   "id": "ef326e21",
   "metadata": {},
   "outputs": [],
   "source": []
  }
 ],
 "metadata": {
  "kernelspec": {
   "display_name": "Python 3 (ipykernel)",
   "language": "python",
   "name": "python3"
  },
  "language_info": {
   "codemirror_mode": {
    "name": "ipython",
    "version": 3
   },
   "file_extension": ".py",
   "mimetype": "text/x-python",
   "name": "python",
   "nbconvert_exporter": "python",
   "pygments_lexer": "ipython3",
   "version": "3.9.12"
  }
 },
 "nbformat": 4,
 "nbformat_minor": 5
}

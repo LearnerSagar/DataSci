{
 "cells": [
  {
   "cell_type": "code",
   "execution_count": 1,
   "id": "072c835c",
   "metadata": {},
   "outputs": [],
   "source": [
    "class Animal:\n",
    "    def sound(self):\n",
    "        print(\"Making sound \")\n",
    "class Base2:\n",
    "    def sound(self):\n",
    "        print(\"Base 2 sound...\")\n",
    "class Dog(Animal, Base2):\n",
    "    def speak(self):\n",
    "        print(\"Barking!\")\n",
    "        "
   ]
  },
  {
   "cell_type": "code",
   "execution_count": 3,
   "id": "e4c055de",
   "metadata": {},
   "outputs": [
    {
     "name": "stdout",
     "output_type": "stream",
     "text": [
      "Making sound \n"
     ]
    }
   ],
   "source": [
    "animal=Animal()\n",
    "animal.sound()"
   ]
  },
  {
   "cell_type": "code",
   "execution_count": 5,
   "id": "e9f9d2a4",
   "metadata": {},
   "outputs": [
    {
     "name": "stdout",
     "output_type": "stream",
     "text": [
      "Base 2 sound...\n"
     ]
    }
   ],
   "source": [
    "base=Base2()\n",
    "base.sound()"
   ]
  },
  {
   "cell_type": "code",
   "execution_count": 6,
   "id": "b54870d9",
   "metadata": {},
   "outputs": [
    {
     "name": "stdout",
     "output_type": "stream",
     "text": [
      "Barking!\n",
      "Making sound \n"
     ]
    }
   ],
   "source": [
    "dog=Dog()\n",
    "dog.speak()cla"
   ]
  },
  {
   "cell_type": "code",
   "execution_count": 7,
   "id": "c09f8fbf",
   "metadata": {},
   "outputs": [],
   "source": [
    "class parent:\n",
    "    def say_hello(self):\n",
    "        print(\"hello form parent.\")\n",
    "class child(parent):\n",
    "    def say_hello(self):\n",
    "        print(\"hello form child.\")\n",
    "        super().say_hello()\n"
   ]
  },
  {
   "cell_type": "code",
   "execution_count": 9,
   "id": "1bd10f33",
   "metadata": {},
   "outputs": [
    {
     "name": "stdout",
     "output_type": "stream",
     "text": [
      "hello form child.\n",
      "hello form parent.\n"
     ]
    }
   ],
   "source": [
    "obj=child()\n",
    "obj.say_hello()"
   ]
  },
  {
   "cell_type": "code",
   "execution_count": null,
   "id": "9a3d2efa",
   "metadata": {},
   "outputs": [],
   "source": []
  }
 ],
 "metadata": {
  "kernelspec": {
   "display_name": "Python 3 (ipykernel)",
   "language": "python",
   "name": "python3"
  },
  "language_info": {
   "codemirror_mode": {
    "name": "ipython",
    "version": 3
   },
   "file_extension": ".py",
   "mimetype": "text/x-python",
   "name": "python",
   "nbconvert_exporter": "python",
   "pygments_lexer": "ipython3",
   "version": "3.9.12"
  }
 },
 "nbformat": 4,
 "nbformat_minor": 5
}

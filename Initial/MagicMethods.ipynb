{
 "cells": [
  {
   "cell_type": "code",
   "execution_count": 14,
   "id": "69583ece",
   "metadata": {},
   "outputs": [],
   "source": [
    "class Person():\n",
    "    def __init__(self,name,age):\n",
    "        self.name=name\n",
    "        self.age=age\n",
    "    def __str__(self):\n",
    "        return f\"{self.name} is {self.age} years old\"\n",
    "    def __repr__(self):\n",
    "        return f\"Person({self.name},{self.age})\"\n",
    "    def __len__(self):\n",
    "        return self.age\n",
    "    def __call__(self):\n",
    "        return f\"{self.name} is being called.\"\n",
    "    "
   ]
  },
  {
   "cell_type": "code",
   "execution_count": 15,
   "id": "871555f6",
   "metadata": {},
   "outputs": [],
   "source": [
    "person=Person(\"Alice\", 30)"
   ]
  },
  {
   "cell_type": "code",
   "execution_count": 16,
   "id": "2e702564",
   "metadata": {},
   "outputs": [
    {
     "name": "stdout",
     "output_type": "stream",
     "text": [
      "Alice is 30 years old\n"
     ]
    }
   ],
   "source": [
    "print(person)"
   ]
  },
  {
   "cell_type": "code",
   "execution_count": 17,
   "id": "95813111",
   "metadata": {},
   "outputs": [
    {
     "name": "stdout",
     "output_type": "stream",
     "text": [
      "Alice is 30 years old\n"
     ]
    }
   ],
   "source": [
    "print(str(person))"
   ]
  },
  {
   "cell_type": "code",
   "execution_count": 18,
   "id": "be2f94cd",
   "metadata": {},
   "outputs": [
    {
     "name": "stdout",
     "output_type": "stream",
     "text": [
      "Person(Alice,30)\n"
     ]
    }
   ],
   "source": [
    "print(repr(person))"
   ]
  },
  {
   "cell_type": "code",
   "execution_count": 19,
   "id": "b1da44f9",
   "metadata": {},
   "outputs": [
    {
     "name": "stdout",
     "output_type": "stream",
     "text": [
      "30\n"
     ]
    }
   ],
   "source": [
    "print(len(person))"
   ]
  },
  {
   "cell_type": "code",
   "execution_count": 20,
   "id": "f293c0da",
   "metadata": {},
   "outputs": [
    {
     "name": "stdout",
     "output_type": "stream",
     "text": [
      "Alice is being called.\n"
     ]
    }
   ],
   "source": [
    "print(person())"
   ]
  },
  {
   "cell_type": "markdown",
   "id": "9ad5fd3f",
   "metadata": {},
   "source": [
    "# Operator overloading"
   ]
  },
  {
   "cell_type": "code",
   "execution_count": 45,
   "id": "7f657ebe",
   "metadata": {},
   "outputs": [],
   "source": [
    "class point:\n",
    "    def __init__(self,x,y):\n",
    "        self.x=x\n",
    "        self.y=y\n",
    "    def __add__(self,other):\n",
    "        x=self.x+other.x\n",
    "        y=self.y+other.y\n",
    "        return point(x,y)\n",
    "    def __sub__(self,other):\n",
    "        x=self.x-other.x\n",
    "        y=self.y-other.y\n",
    "        return point(x,y)\n",
    "    def __mul__(self,other):\n",
    "        x=self.x*self.x\n",
    "        y=self.y*self.y\n",
    "        return point(x,y)\n",
    "    def __truediv__(self,other):\n",
    "        x=self.x/other.x\n",
    "        y=self.y/other.y\n",
    "        return point(x,y)\n",
    "    def __eq__(self,other):\n",
    "        return self.x==other.x and self.y==other.y\n",
    "    def __lt__(self,other):\n",
    "        return self.x <other.x and self.y<other.y\n",
    "    def __repr__(self):\n",
    "        return f\"({self.x},{self.y})\""
   ]
  },
  {
   "cell_type": "code",
   "execution_count": 46,
   "id": "98c4daa4",
   "metadata": {},
   "outputs": [],
   "source": [
    "p1=point(1,2)\n",
    "p2=point(3,4)"
   ]
  },
  {
   "cell_type": "code",
   "execution_count": 47,
   "id": "a8fc035f",
   "metadata": {},
   "outputs": [
    {
     "name": "stdout",
     "output_type": "stream",
     "text": [
      "(4,6)\n"
     ]
    }
   ],
   "source": [
    "print(p1+p2)"
   ]
  },
  {
   "cell_type": "code",
   "execution_count": 48,
   "id": "27af4dde",
   "metadata": {},
   "outputs": [
    {
     "name": "stdout",
     "output_type": "stream",
     "text": [
      "(-2,-2)\n",
      "(1,4)\n"
     ]
    }
   ],
   "source": [
    "print(p1-p2)\n",
    "print(p1*p2)"
   ]
  },
  {
   "cell_type": "code",
   "execution_count": 49,
   "id": "3ab8f692",
   "metadata": {},
   "outputs": [
    {
     "name": "stdout",
     "output_type": "stream",
     "text": [
      "(0.3333333333333333,0.5)\n",
      "False\n",
      "True\n"
     ]
    }
   ],
   "source": [
    "print(p1/p2)\n",
    "print(p1==p2)\n",
    "print(p1<p2)"
   ]
  },
  {
   "cell_type": "code",
   "execution_count": null,
   "id": "8e163433",
   "metadata": {},
   "outputs": [],
   "source": []
  },
  {
   "cell_type": "code",
   "execution_count": null,
   "id": "df57bc1d",
   "metadata": {},
   "outputs": [],
   "source": []
  }
 ],
 "metadata": {
  "kernelspec": {
   "display_name": "Python 3 (ipykernel)",
   "language": "python",
   "name": "python3"
  },
  "language_info": {
   "codemirror_mode": {
    "name": "ipython",
    "version": 3
   },
   "file_extension": ".py",
   "mimetype": "text/x-python",
   "name": "python",
   "nbconvert_exporter": "python",
   "pygments_lexer": "ipython3",
   "version": "3.9.12"
  }
 },
 "nbformat": 4,
 "nbformat_minor": 5
}

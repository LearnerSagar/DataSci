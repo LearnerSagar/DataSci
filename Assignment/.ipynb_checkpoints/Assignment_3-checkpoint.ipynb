{
 "cells": [
  {
   "cell_type": "code",
   "execution_count": 2,
   "id": "1d2e78b4",
   "metadata": {},
   "outputs": [],
   "source": [
    "def number_generator(start,end):\n",
    "    for num in range(start, end+1):\n",
    "        yield num"
   ]
  },
  {
   "cell_type": "code",
   "execution_count": 3,
   "id": "228a9b6d",
   "metadata": {},
   "outputs": [],
   "source": [
    "my_generator=number_generator(1,5)"
   ]
  },
  {
   "cell_type": "code",
   "execution_count": 4,
   "id": "fe50781a",
   "metadata": {},
   "outputs": [
    {
     "name": "stdout",
     "output_type": "stream",
     "text": [
      "<generator object number_generator at 0x7f3b00467270>\n"
     ]
    }
   ],
   "source": [
    "print(my_generator)"
   ]
  },
  {
   "cell_type": "code",
   "execution_count": 5,
   "id": "1e8d85ab",
   "metadata": {},
   "outputs": [
    {
     "name": "stdout",
     "output_type": "stream",
     "text": [
      "1\n",
      "2\n",
      "3\n",
      "4\n",
      "5\n",
      "out of limit.\n"
     ]
    }
   ],
   "source": [
    "try:\n",
    "    print(next(my_generator))\n",
    "    print(next(my_generator))\n",
    "    print(next(my_generator))\n",
    "    print(next(my_generator))\n",
    "    print(next(my_generator))\n",
    "    print(next(my_generator))\n",
    "\n",
    "\n",
    "except StopIteration:\n",
    "    print(\"out of limit.\")"
   ]
  },
  {
   "cell_type": "code",
   "execution_count": null,
   "id": "ed35371b",
   "metadata": {},
   "outputs": [],
   "source": []
  }
 ],
 "metadata": {
  "kernelspec": {
   "display_name": "Python 3 (ipykernel)",
   "language": "python",
   "name": "python3"
  },
  "language_info": {
   "codemirror_mode": {
    "name": "ipython",
    "version": 3
   },
   "file_extension": ".py",
   "mimetype": "text/x-python",
   "name": "python",
   "nbconvert_exporter": "python",
   "pygments_lexer": "ipython3",
   "version": "3.9.12"
  }
 },
 "nbformat": 4,
 "nbformat_minor": 5
}

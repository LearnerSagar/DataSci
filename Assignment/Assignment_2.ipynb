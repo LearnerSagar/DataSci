{
 "cells": [
  {
   "cell_type": "markdown",
   "id": "3a07c021",
   "metadata": {},
   "source": [
    "# Design a program to control speed of a car and a bike independently. Also consider the turning phenomenon of each using  sterring if its a car and handle if its a bike.\n",
    "\n",
    "1. parent Class: Vehicle\n",
    "2. Child1: Bike\n",
    "3. Child2: Car\n",
    "\n",
    "Method: turning, speed"
   ]
  },
  {
   "cell_type": "code",
   "execution_count": 15,
   "id": "feddba65",
   "metadata": {},
   "outputs": [
    {
     "name": "stdout",
     "output_type": "stream",
     "text": [
      "choose bike or car.bike\n",
      "Provide me the current banking status of road ahead in degree. 300\n",
      "Provide me the current speed status of vehicle. 200\n"
     ]
    }
   ],
   "source": [
    "option=input('choose bike or car.')\n",
    "angle=int(input('Provide me the current banking status of road ahead in degree. '))\n",
    "speed=int(input('Provide me the current speed status of vehicle. '))\n",
    "class vehicles:\n",
    "     def __init__(self, angle, speed):\n",
    "        self.angle=angle\n",
    "        self.speed=speed\n",
    "        \n",
    "class Bike(vehicles):\n",
    "    def __init__(self, angle, speed):\n",
    "        super().__init__(angle,speed)\n",
    "         \n",
    "             \n",
    "    def func1(self):\n",
    "        if self.speed >50:\n",
    "            print(\"control the speed of bike.\")\n",
    "        else:\n",
    "            print(\"you are going well!\")\n",
    "            \n",
    "    def func2(self):\n",
    "        if self.angle >0 and self.angle <=10:\n",
    "            print(\"turn the bike handle at right side slightly.\")\n",
    "        elif self.angle >10 and self.angle <=30:\n",
    "            print(\"turn the bike handle at right side in greater angle.\")\n",
    "        elif self.angle >30 and self.angle <=90:\n",
    "            print(\"turn the bike handle at right side carefully, your are at heavy turning!\")\n",
    "        elif self.angle >90 and self.angle <=180:\n",
    "            print(\"turn your bike handle left !\")\n",
    "        else:\n",
    "            print(\"you are in the wrong way or your angle measuring sensor doesn't work!.\")\n",
    "class Car(vehicles):\n",
    "    def __init__(self, angle, speed):\n",
    "         super().__init__(angle,speed)\n",
    "            \n",
    "    def func3(self):\n",
    "        if self.speed >50:\n",
    "            print(\"control the speed of car.\")\n",
    "        else:\n",
    "            print(\"you are going well!\")\n",
    "            \n",
    "    def func4(self):\n",
    "        if self.angle >0 and self.angle <=10:\n",
    "            print(\"turn the car sterring at right side slightly.\")\n",
    "        elif self.angle >10 and self.angle <=30:\n",
    "            print(\"turn the car sterring at right side in greater angle.\")\n",
    "        elif self.angle >30 and self.angle <=90:\n",
    "            print(\"turn the car sterring at right side carefully, your are at heavy turning!\")\n",
    "        elif self.angle >90 and self.angle <=180:\n",
    "            print(\"turn your car sterring left !\")\n",
    "        else:\n",
    "            print(\"you are in the wrong way or your angle measuring sensor doesn't work!.\")\n",
    "    \n"
   ]
  },
  {
   "cell_type": "code",
   "execution_count": 16,
   "id": "a31ae80b",
   "metadata": {},
   "outputs": [
    {
     "name": "stdout",
     "output_type": "stream",
     "text": [
      "control the speed of bike.\n",
      "you are in the wrong way or your angle measuring sensor doesn't work!.\n"
     ]
    }
   ],
   "source": [
    "if option == \"bike\":\n",
    "    bike=Bike(angle,speed)\n",
    "    bike.func1()\n",
    "    bike.func2()\n",
    "else:\n",
    "    car=Car(angle,speed)\n",
    "    car.func3()\n",
    "    car.func4()\n"
   ]
  },
  {
   "cell_type": "code",
   "execution_count": null,
   "id": "de1d3ea0",
   "metadata": {},
   "outputs": [],
   "source": []
  },
  {
   "cell_type": "code",
   "execution_count": null,
   "id": "aad0a0bf",
   "metadata": {},
   "outputs": [],
   "source": []
  }
 ],
 "metadata": {
  "kernelspec": {
   "display_name": "Python 3 (ipykernel)",
   "language": "python",
   "name": "python3"
  },
  "language_info": {
   "codemirror_mode": {
    "name": "ipython",
    "version": 3
   },
   "file_extension": ".py",
   "mimetype": "text/x-python",
   "name": "python",
   "nbconvert_exporter": "python",
   "pygments_lexer": "ipython3",
   "version": "3.9.12"
  }
 },
 "nbformat": 4,
 "nbformat_minor": 5
}

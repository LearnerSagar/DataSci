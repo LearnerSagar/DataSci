{
 "cells": [
  {
   "cell_type": "code",
   "execution_count": 16,
   "id": "d1eb92b1",
   "metadata": {},
   "outputs": [],
   "source": [
    "def outer_function(x):\n",
    "    def inner_function(y):\n",
    "        return x+y\n",
    "    def inner2():\n",
    "        pass\n",
    "    return inner_function, inner2"
   ]
  },
  {
   "cell_type": "code",
   "execution_count": 17,
   "id": "d289872e",
   "metadata": {},
   "outputs": [],
   "source": [
    "closure=outer_function(5)"
   ]
  },
  {
   "cell_type": "code",
   "execution_count": 18,
   "id": "bee017f4",
   "metadata": {},
   "outputs": [
    {
     "name": "stdout",
     "output_type": "stream",
     "text": [
      "(<function outer_function.<locals>.inner_function at 0x7f1c1d3e88b0>, <function outer_function.<locals>.inner2 at 0x7f1c1d3e8310>)\n"
     ]
    }
   ],
   "source": [
    "print(closure)"
   ]
  },
  {
   "cell_type": "code",
   "execution_count": 19,
   "id": "762ac523",
   "metadata": {},
   "outputs": [
    {
     "data": {
      "text/plain": [
       "tuple"
      ]
     },
     "execution_count": 19,
     "metadata": {},
     "output_type": "execute_result"
    }
   ],
   "source": [
    "type(closure)"
   ]
  },
  {
   "cell_type": "code",
   "execution_count": 20,
   "id": "3ac03bdf",
   "metadata": {},
   "outputs": [],
   "source": [
    "closure=outer_function(5)"
   ]
  },
  {
   "cell_type": "code",
   "execution_count": 21,
   "id": "50ce61b7",
   "metadata": {},
   "outputs": [
    {
     "ename": "TypeError",
     "evalue": "'tuple' object is not callable",
     "output_type": "error",
     "traceback": [
      "\u001b[0;31m---------------------------------------------------------------------------\u001b[0m",
      "\u001b[0;31mTypeError\u001b[0m                                 Traceback (most recent call last)",
      "Cell \u001b[0;32mIn[21], line 1\u001b[0m\n\u001b[0;32m----> 1\u001b[0m \u001b[43mclosure\u001b[49m\u001b[43m(\u001b[49m\u001b[43m)\u001b[49m\n",
      "\u001b[0;31mTypeError\u001b[0m: 'tuple' object is not callable"
     ]
    }
   ],
   "source": [
    "closure()"
   ]
  },
  {
   "cell_type": "code",
   "execution_count": 22,
   "id": "ad09f454",
   "metadata": {},
   "outputs": [
    {
     "data": {
      "text/plain": [
       "7"
      ]
     },
     "execution_count": 22,
     "metadata": {},
     "output_type": "execute_result"
    }
   ],
   "source": [
    "closure[0](2)"
   ]
  },
  {
   "cell_type": "code",
   "execution_count": 23,
   "id": "ae8743d0",
   "metadata": {},
   "outputs": [],
   "source": [
    "closure1, closure2=outer_function(5)"
   ]
  },
  {
   "cell_type": "code",
   "execution_count": 27,
   "id": "3ef9e76b",
   "metadata": {},
   "outputs": [],
   "source": [
    "#closure1=inner_function()\n",
    "#closure2=inner2()\n",
    "#closure[1](2)"
   ]
  },
  {
   "cell_type": "markdown",
   "id": "ebb426a2",
   "metadata": {},
   "source": [
    "# Example of closure in python"
   ]
  },
  {
   "cell_type": "code",
   "execution_count": 28,
   "id": "c98f4f3c",
   "metadata": {},
   "outputs": [],
   "source": [
    "def counter():\n",
    "    count=0\n",
    "    def inner():\n",
    "        nonlocal count\n",
    "        count +=1\n",
    "        return count\n",
    "    return inner"
   ]
  },
  {
   "cell_type": "code",
   "execution_count": 29,
   "id": "71a57087",
   "metadata": {},
   "outputs": [],
   "source": [
    "c1=counter()"
   ]
  },
  {
   "cell_type": "code",
   "execution_count": 30,
   "id": "ded3adcb",
   "metadata": {},
   "outputs": [
    {
     "name": "stdout",
     "output_type": "stream",
     "text": [
      "1\n"
     ]
    }
   ],
   "source": [
    "print(c1())"
   ]
  },
  {
   "cell_type": "code",
   "execution_count": 31,
   "id": "a9ad0069",
   "metadata": {},
   "outputs": [
    {
     "name": "stdout",
     "output_type": "stream",
     "text": [
      "2\n"
     ]
    }
   ],
   "source": [
    "print(c1())"
   ]
  },
  {
   "cell_type": "code",
   "execution_count": 32,
   "id": "48b83ac7",
   "metadata": {},
   "outputs": [
    {
     "name": "stdout",
     "output_type": "stream",
     "text": [
      "3\n"
     ]
    }
   ],
   "source": [
    "print(c1())"
   ]
  },
  {
   "cell_type": "code",
   "execution_count": 33,
   "id": "d8708ebb",
   "metadata": {},
   "outputs": [
    {
     "name": "stdout",
     "output_type": "stream",
     "text": [
      "\n"
     ]
    }
   ],
   "source": [
    "print()"
   ]
  },
  {
   "cell_type": "code",
   "execution_count": 34,
   "id": "b67dcf75",
   "metadata": {},
   "outputs": [],
   "source": [
    "c2=counter()"
   ]
  },
  {
   "cell_type": "code",
   "execution_count": 35,
   "id": "679bdd54",
   "metadata": {},
   "outputs": [
    {
     "name": "stdout",
     "output_type": "stream",
     "text": [
      "1\n"
     ]
    }
   ],
   "source": [
    "print(c2())"
   ]
  },
  {
   "cell_type": "code",
   "execution_count": 36,
   "id": "2733790c",
   "metadata": {},
   "outputs": [
    {
     "name": "stdout",
     "output_type": "stream",
     "text": [
      "2\n"
     ]
    }
   ],
   "source": [
    "print(c2())"
   ]
  },
  {
   "cell_type": "code",
   "execution_count": null,
   "id": "88fa425d",
   "metadata": {},
   "outputs": [],
   "source": []
  }
 ],
 "metadata": {
  "kernelspec": {
   "display_name": "Python 3 (ipykernel)",
   "language": "python",
   "name": "python3"
  },
  "language_info": {
   "codemirror_mode": {
    "name": "ipython",
    "version": 3
   },
   "file_extension": ".py",
   "mimetype": "text/x-python",
   "name": "python",
   "nbconvert_exporter": "python",
   "pygments_lexer": "ipython3",
   "version": "3.9.12"
  }
 },
 "nbformat": 4,
 "nbformat_minor": 5
}

{
 "cells": [
  {
   "cell_type": "markdown",
   "id": "c7a1065d",
   "metadata": {},
   "source": [
    "# Problem Statement"
   ]
  },
  {
   "cell_type": "markdown",
   "id": "18687f3a",
   "metadata": {},
   "source": [
    "we want to build an online shopping cart system that allows users to add products to their cart. Calculate the total cost, apply discounts, and generate an invoice. The system should include the following functionalities:\n",
    "\n",
    "1. Adding products to the cart.\n",
    "2. Removing products from the cart.\n",
    "3. Calculating the total cost.\n",
    "4. Applying discounts based on user type."
   ]
  },
  {
   "cell_type": "markdown",
   "id": "25450c4d",
   "metadata": {},
   "source": [
    "### 1. Cart for a user should be independent from other users\n",
    "### 2. Add a new admin feature is_admin that takes in boolean values [True, False],and only admin should be allowed to create other admins or all is_premium or all is_premium = True for other users"
   ]
  },
  {
   "cell_type": "code",
   "execution_count": 61,
   "id": "a628a202",
   "metadata": {},
   "outputs": [],
   "source": [
    "class Product:\n",
    "    def __init__(self, name, price):\n",
    "        self.name=name\n",
    "        self.price=price"
   ]
  },
  {
   "cell_type": "code",
   "execution_count": 62,
   "id": "b3604fbf",
   "metadata": {},
   "outputs": [],
   "source": [
    "class User:\n",
    "    def __init__(self, name, is_premium=False):\n",
    "        self.name=name\n",
    "        self.is_premium= is_premium\n",
    "    \n",
    "   "
   ]
  },
  {
   "cell_type": "code",
   "execution_count": 63,
   "id": "1de81cc3",
   "metadata": {},
   "outputs": [],
   "source": [
    "def discount_10_percent(func):\n",
    "    def wrapper(self):\n",
    "        total_cost = func(self)\n",
    "        discounted_cost = total_cost * 0.9\n",
    "        return discounted_cost\n",
    "    return wrapper"
   ]
  },
  {
   "cell_type": "code",
   "execution_count": 64,
   "id": "39b74fbe",
   "metadata": {},
   "outputs": [],
   "source": [
    "class ShoppingCart:\n",
    "    def __init__(self):\n",
    "        self.products = []\n",
    "        \n",
    "    def add_product(self, product):\n",
    "        self.products.append(product)\n",
    "    \n",
    "    def remove_product(self, product):\n",
    "        self.products.remove(product)\n",
    "    \n",
    "    def calculate_total_cost(self):\n",
    "        total_cost=sum(product.price for product in self.products)\n",
    "        return total_cost\n",
    "    \n",
    "    @discount_10_percent\n",
    "    def calculate_discounted_cost(self):\n",
    "        total_cost= sum(product.price for product in self.products)\n",
    "        return total_cost\n",
    "      \n",
    "    def generate_invoice(self, user):\n",
    "        invoice = f\"Invoice for {user.name} :\\n\"\n",
    "        invoice += \"==================\\n\"\n",
    "        for product in self.products:\n",
    "            invoice += f\"{product.name}: ${product.price}\\n\"\n",
    "        total_cost =self.calculate_total_cost()\n",
    "        if user.is_premium:\n",
    "            invoice += \"---------------\\n\"\n",
    "            invoice += f\"Sub-Total : ${total_cost}\\n\"\n",
    "            final_cost =self.calculate_discounted_cost()\n",
    "            invoice += f\"Discount (10%) : ${total_cost -final_cost}\\n\"\n",
    "            total_cost=final_cost\n",
    "        invoice += \"------------------\\n\"\n",
    "        invoice += f\"Total: ${total_cost}\"\n",
    "        return invoice\n",
    "    \n",
    "    def get_products(self):\n",
    "        yield from self.products\n",
    "        "
   ]
  },
  {
   "cell_type": "code",
   "execution_count": 65,
   "id": "8da9ee93",
   "metadata": {},
   "outputs": [],
   "source": [
    "product1=Product(\"Shirt\",20)\n",
    "product2=Product(\"Pants\",30)\n",
    "product3=Product(\"Shoes\",50)"
   ]
  },
  {
   "cell_type": "code",
   "execution_count": 66,
   "id": "9948f0d8",
   "metadata": {},
   "outputs": [
    {
     "name": "stdout",
     "output_type": "stream",
     "text": [
      "Product: Shirt, Price:20\n",
      "Product: Pants, Price:30\n"
     ]
    }
   ],
   "source": [
    "\n",
    "\n",
    "cart = ShoppingCart()\n",
    "\n",
    "# Add products to cart\n",
    "cart.add_product(product1)\n",
    "cart.add_product(product2)\n",
    "\n",
    "for product in cart.get_products():\n",
    "    print(f\"Product: {product.name}, Price:{product.price}\")"
   ]
  },
  {
   "cell_type": "code",
   "execution_count": 67,
   "id": "59948370",
   "metadata": {},
   "outputs": [
    {
     "name": "stdout",
     "output_type": "stream",
     "text": [
      "Invoice for John :\n",
      "==================\n",
      "Shirt: $20\n",
      "Pants: $30\n",
      "------------------\n",
      "Total: $50\n"
     ]
    }
   ],
   "source": [
    "\n",
    "# Create a new user\n",
    "user = User(\"John\", is_premium=False)\n",
    "\n",
    "\n",
    "invoice = cart.generate_invoice(user)\n",
    "print(invoice)"
   ]
  },
  {
   "cell_type": "code",
   "execution_count": 68,
   "id": "5c02d651",
   "metadata": {},
   "outputs": [
    {
     "name": "stdout",
     "output_type": "stream",
     "text": [
      "Invoice for Rita :\n",
      "==================\n",
      "Shirt: $20\n",
      "Pants: $30\n",
      "---------------\n",
      "Sub-Total : $50\n",
      "Discount (10%) : $5.0\n",
      "------------------\n",
      "Total: $45.0\n"
     ]
    }
   ],
   "source": [
    "user=User(\"Rita\", is_premium=True)\n",
    "invoice=cart.generate_invoice(user)\n",
    "print(invoice)"
   ]
  },
  {
   "cell_type": "code",
   "execution_count": null,
   "id": "b4bac9c6",
   "metadata": {},
   "outputs": [],
   "source": []
  },
  {
   "cell_type": "code",
   "execution_count": null,
   "id": "f1130ff4",
   "metadata": {},
   "outputs": [],
   "source": []
  },
  {
   "cell_type": "code",
   "execution_count": null,
   "id": "bb5dbe7d",
   "metadata": {},
   "outputs": [],
   "source": []
  },
  {
   "cell_type": "code",
   "execution_count": null,
   "id": "5bc7eb55",
   "metadata": {},
   "outputs": [],
   "source": []
  },
  {
   "cell_type": "code",
   "execution_count": null,
   "id": "f7f6aeb1",
   "metadata": {},
   "outputs": [],
   "source": []
  },
  {
   "cell_type": "code",
   "execution_count": null,
   "id": "71bab00a",
   "metadata": {},
   "outputs": [],
   "source": []
  },
  {
   "cell_type": "code",
   "execution_count": null,
   "id": "bf8a34a3",
   "metadata": {},
   "outputs": [],
   "source": []
  }
 ],
 "metadata": {
  "kernelspec": {
   "display_name": "Python 3 (ipykernel)",
   "language": "python",
   "name": "python3"
  },
  "language_info": {
   "codemirror_mode": {
    "name": "ipython",
    "version": 3
   },
   "file_extension": ".py",
   "mimetype": "text/x-python",
   "name": "python",
   "nbconvert_exporter": "python",
   "pygments_lexer": "ipython3",
   "version": "3.9.12"
  }
 },
 "nbformat": 4,
 "nbformat_minor": 5
}

{
 "cells": [
  {
   "cell_type": "code",
   "execution_count": 3,
   "id": "a45a47f1",
   "metadata": {},
   "outputs": [],
   "source": [
    "class Product:\n",
    "    def __init__(self,name,price):\n",
    "        self.name=name\n",
    "        self.price=price\n",
    "        \n",
    "    "
   ]
  },
  {
   "cell_type": "code",
   "execution_count": 4,
   "id": "ba4aebee",
   "metadata": {},
   "outputs": [],
   "source": [
    "class User:\n",
    "    users=[]\n",
    "    def __init__(self,name):\n",
    "        self.name=self.validate_name(name)\n",
    "        self.__is_premium=False\n",
    "        self.__is_admin=False\n",
    "        self.cart=ShoppingCart()\n",
    "        User.users.append(self)\n",
    "        if self.name==\"admin\":\n",
    "            self.__is_premium=True\n",
    "            self.__is_admin=True\n",
    "    @staticmethod\n",
    "    def validate_name(name):\n",
    "        if any(user.name==name for user in User.users):\n",
    "            print(f\"User with the name '{name}' already exists. Please choose a different name\")\n",
    "            unique_name=input(\"Please enter a unique name:\")\n",
    "            return User.validate_name(uniqu_name)\n",
    "        return name\n",
    "    @property\n",
    "    def is_admin(self):\n",
    "        return self.__is_admin\n",
    "    @property\n",
    "    def is_premium(self):\n",
    "        return self.__is_premium\n",
    "    def make_admin(self,admin):\n",
    "        if admin_user.is_admin:\n",
    "            self.__is_admin=True\n",
    "            self.__is_premium=True\n",
    "    def make_premium(self,admin_user):\n",
    "        if admin_user.is_admin:\n",
    "            self.__is_premium=True\n",
    "    def remove_admin(self,admin_user):\n",
    "        if admin_user.is_admin:\n",
    "            self.__is_admin=False\n",
    "    def remove_premium(self,admin_user):\n",
    "        if admin_user.is_admin:\n",
    "            self.__is_premium=False\n",
    "        "
   ]
  },
  {
   "cell_type": "code",
   "execution_count": 5,
   "id": "e7058ebb",
   "metadata": {},
   "outputs": [],
   "source": [
    "def discount_10_percent(func):\n",
    "    def wrapper(self):\n",
    "        total_cost = func(self)\n",
    "        discounted_cost = total_cost * 0.9\n",
    "        return discounted_cost\n",
    "    return wrapper"
   ]
  },
  {
   "cell_type": "code",
   "execution_count": 6,
   "id": "99342b33",
   "metadata": {},
   "outputs": [],
   "source": [
    "class ShoppingCart:\n",
    "    def __init__(self):\n",
    "        self.products = []\n",
    "        \n",
    "    def add_product(self, product):\n",
    "        self.products.append(product)\n",
    "    \n",
    "    def remove_product(self, product):\n",
    "        self.products.remove(product)\n",
    "    \n",
    "    def calculate_total_cost(self):\n",
    "        total_cost=sum(product.price for product in self.products)\n",
    "        return total_cost\n",
    "    \n",
    "    @discount_10_percent\n",
    "    def calculate_discounted_cost(self):\n",
    "        total_cost= sum(product.price for product in self.products)\n",
    "        return total_cost\n",
    "      \n",
    "    def generate_invoice(self, user):\n",
    "        invoice = f\"Invoice for {user.name} :\\n\"\n",
    "        invoice += \"==================\\n\"\n",
    "        for product in self.products:\n",
    "            invoice += f\"{product.name}: ${product.price}\\n\"\n",
    "        total_cost =self.calculate_total_cost()\n",
    "        if user.is_premium:\n",
    "            invoice += \"---------------\\n\"\n",
    "            invoice += f\"Sub-Total : ${total_cost}\\n\"\n",
    "            final_cost =self.calculate_discounted_cost()\n",
    "            invoice += f\"Discount (10%) : ${total_cost -final_cost}\\n\"\n",
    "            total_cost=final_cost\n",
    "        invoice += \"------------------\\n\"\n",
    "        invoice += f\"Total: ${total_cost}\"\n",
    "        return invoice\n",
    "    \n",
    "    def get_products(self):\n",
    "        yield from self.products\n",
    "        "
   ]
  },
  {
   "cell_type": "code",
   "execution_count": 7,
   "id": "b5adc72a",
   "metadata": {},
   "outputs": [],
   "source": [
    "product1=Product(\"Shirt\",20)\n",
    "product2=Product(\"Pants\",30)\n",
    "product3=Product(\"Shoes\",50)"
   ]
  },
  {
   "cell_type": "code",
   "execution_count": 8,
   "id": "f212a4a6",
   "metadata": {},
   "outputs": [
    {
     "name": "stdout",
     "output_type": "stream",
     "text": [
      "Product: Shirt, Price:20\n",
      "Product: Pants, Price:30\n"
     ]
    }
   ],
   "source": [
    "cart = ShoppingCart()\n",
    "\n",
    "# Add products to cart\n",
    "cart.add_product(product1)\n",
    "cart.add_product(product2)\n",
    "\n",
    "for product in cart.get_products():\n",
    "    print(f\"Product: {product.name}, Price:{product.price}\")"
   ]
  },
  {
   "cell_type": "code",
   "execution_count": 9,
   "id": "19649f67",
   "metadata": {},
   "outputs": [],
   "source": [
    "admin=User(\"admin\")"
   ]
  },
  {
   "cell_type": "code",
   "execution_count": 10,
   "id": "de51aa46",
   "metadata": {},
   "outputs": [
    {
     "data": {
      "text/plain": [
       "True"
      ]
     },
     "execution_count": 10,
     "metadata": {},
     "output_type": "execute_result"
    }
   ],
   "source": [
    "admin.is_admin"
   ]
  },
  {
   "cell_type": "code",
   "execution_count": 11,
   "id": "76dcf458",
   "metadata": {},
   "outputs": [
    {
     "name": "stdout",
     "output_type": "stream",
     "text": [
      "Invoice for admin :\n",
      "==================\n",
      "Shirt: $20\n",
      "Pants: $30\n",
      "---------------\n",
      "Sub-Total : $50\n",
      "Discount (10%) : $5.0\n",
      "------------------\n",
      "Total: $45.0\n"
     ]
    }
   ],
   "source": [
    "print(cart.generate_invoice(admin))"
   ]
  },
  {
   "cell_type": "code",
   "execution_count": 12,
   "id": "8bd8fdb4",
   "metadata": {},
   "outputs": [],
   "source": [
    "admin.cart.add_product(product1)\n",
    "admin.cart.add_product(product2)"
   ]
  },
  {
   "cell_type": "code",
   "execution_count": 13,
   "id": "df14c71d",
   "metadata": {},
   "outputs": [],
   "source": [
    "admin_invoice=admin.cart.generate_invoice(admin)"
   ]
  },
  {
   "cell_type": "code",
   "execution_count": 14,
   "id": "9cea9b78",
   "metadata": {},
   "outputs": [
    {
     "name": "stdout",
     "output_type": "stream",
     "text": [
      "Invoice for admin :\n",
      "==================\n",
      "Shirt: $20\n",
      "Pants: $30\n",
      "---------------\n",
      "Sub-Total : $50\n",
      "Discount (10%) : $5.0\n",
      "------------------\n",
      "Total: $45.0\n"
     ]
    }
   ],
   "source": [
    "print(admin_invoice)"
   ]
  },
  {
   "cell_type": "code",
   "execution_count": null,
   "id": "55c4ab43",
   "metadata": {},
   "outputs": [],
   "source": []
  },
  {
   "cell_type": "code",
   "execution_count": null,
   "id": "ee72485b",
   "metadata": {},
   "outputs": [],
   "source": []
  }
 ],
 "metadata": {
  "kernelspec": {
   "display_name": "Python 3 (ipykernel)",
   "language": "python",
   "name": "python3"
  },
  "language_info": {
   "codemirror_mode": {
    "name": "ipython",
    "version": 3
   },
   "file_extension": ".py",
   "mimetype": "text/x-python",
   "name": "python",
   "nbconvert_exporter": "python",
   "pygments_lexer": "ipython3",
   "version": "3.9.12"
  }
 },
 "nbformat": 4,
 "nbformat_minor": 5
}
